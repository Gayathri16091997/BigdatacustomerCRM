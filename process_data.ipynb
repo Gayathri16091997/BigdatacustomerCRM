{
 "cells": [
  {
   "cell_type": "code",
   "execution_count": 1,
   "metadata": {},
   "outputs": [],
   "source": [
    "import pandas as pd"
   ]
  },
  {
   "cell_type": "code",
   "execution_count": 2,
   "metadata": {},
   "outputs": [],
   "source": [
    "amazon_data = pd.read_csv('Amazon dataset (1).csv')"
   ]
  },
  {
   "cell_type": "code",
   "execution_count": 5,
   "metadata": {},
   "outputs": [],
   "source": [
    "def format_category(x):\n",
    "    \"\"\"Format the category column to be used in the ML model.\n",
    "    Args:\n",
    "        x (str): category string.\n",
    "    Returns:\n",
    "        str: formatted category string.\n",
    "    \"\"\"\n",
    "    # this is the content of the column Computers&Accessories|Accessories&Peripherals|..., keep the text until first | and remove the rest\n",
    "    return x.split(\"|\")[0]"
   ]
  },
  {
   "cell_type": "code",
   "execution_count": 6,
   "metadata": {},
   "outputs": [],
   "source": [
    "amazon_data['category'] = amazon_data['category'].apply(lambda x: format_category(x))"
   ]
  },
  {
   "cell_type": "code",
   "execution_count": 7,
   "metadata": {},
   "outputs": [
    {
     "data": {
      "text/plain": [
       "0       Computers&Accessories\n",
       "1       Computers&Accessories\n",
       "2       Computers&Accessories\n",
       "3       Computers&Accessories\n",
       "4       Computers&Accessories\n",
       "                ...          \n",
       "1460             Home&Kitchen\n",
       "1461             Home&Kitchen\n",
       "1462             Home&Kitchen\n",
       "1463             Home&Kitchen\n",
       "1464             Home&Kitchen\n",
       "Name: category, Length: 1465, dtype: object"
      ]
     },
     "execution_count": 7,
     "metadata": {},
     "output_type": "execute_result"
    }
   ],
   "source": [
    "amazon_data.category"
   ]
  },
  {
   "cell_type": "code",
   "execution_count": 8,
   "metadata": {},
   "outputs": [],
   "source": [
    "# save the data to a csv file\n",
    "amazon_data.to_csv('Amazon dataset (2).csv', index=False)"
   ]
  },
  {
   "cell_type": "code",
   "execution_count": 9,
   "metadata": {},
   "outputs": [
    {
     "data": {
      "text/plain": [
       "0       ₹1,099\n",
       "1         ₹349\n",
       "2       ₹1,899\n",
       "3         ₹699\n",
       "4         ₹399\n",
       "         ...  \n",
       "1460      ₹919\n",
       "1461    ₹3,045\n",
       "1462    ₹3,080\n",
       "1463    ₹1,890\n",
       "1464    ₹3,690\n",
       "Name: actual_price, Length: 1465, dtype: object"
      ]
     },
     "execution_count": 9,
     "metadata": {},
     "output_type": "execute_result"
    }
   ],
   "source": [
    "amazon_data.actual_price"
   ]
  },
  {
   "cell_type": "code",
   "execution_count": null,
   "metadata": {},
   "outputs": [],
   "source": []
  }
 ],
 "metadata": {
  "kernelspec": {
   "display_name": "base",
   "language": "python",
   "name": "python3"
  },
  "language_info": {
   "codemirror_mode": {
    "name": "ipython",
    "version": 3
   },
   "file_extension": ".py",
   "mimetype": "text/x-python",
   "name": "python",
   "nbconvert_exporter": "python",
   "pygments_lexer": "ipython3",
   "version": "3.8.16"
  },
  "orig_nbformat": 4
 },
 "nbformat": 4,
 "nbformat_minor": 2
}
